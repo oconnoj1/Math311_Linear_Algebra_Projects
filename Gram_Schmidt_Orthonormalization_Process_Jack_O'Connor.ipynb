{
  "nbformat": 4,
  "nbformat_minor": 0,
  "metadata": {
    "colab": {
      "provenance": [],
      "authorship_tag": "ABX9TyNeOAE7UnCNx3vsHorpnCRt",
      "include_colab_link": true
    },
    "kernelspec": {
      "name": "python3",
      "display_name": "Python 3"
    },
    "language_info": {
      "name": "python"
    }
  },
  "cells": [
    {
      "cell_type": "markdown",
      "metadata": {
        "id": "view-in-github",
        "colab_type": "text"
      },
      "source": [
        "<a href=\"https://colab.research.google.com/github/oconnoj1/Math311_Linear_Algebra_Projects/blob/main/Gram_Schmidt_Orthonormalization_Process_Jack_O'Connor.ipynb\" target=\"_parent\"><img src=\"https://colab.research.google.com/assets/colab-badge.svg\" alt=\"Open In Colab\"/></a>"
      ]
    },
    {
      "cell_type": "markdown",
      "source": [
        "# Finding Orthonormal vectors using the Gram Schmidt Orthonormalization Process\n",
        "\n",
        "Starting with the vectors:\n",
        "\n",
        "$$ r_1 = \\left( \\begin{array}{c} 3\\\\ 0\\\\ 3\\\\ 0\\\\ \\end {array}  \\right)\n",
        " r_2 = \\left( \\begin{array}{c} 3\\\\ 2\\\\ 3\\\\ 3\\\\ \\end {array}  \\right)\n",
        " r_3 = \\left( \\begin{array}{c} -7\\\\ -4\\\\ -5\\\\ -6\\\\ \\end {array}  \\right)\n",
        " r_4 = \\left( \\begin{array}{c} -7\\\\ -3\\\\ -11\\\\ 2\\\\ \\end {array}  \\right)\n",
        " $$"
      ],
      "metadata": {
        "id": "-Hf_hhqQyqT9"
      }
    },
    {
      "cell_type": "code",
      "execution_count": 4,
      "metadata": {
        "id": "kw81raeuyQm0"
      },
      "outputs": [],
      "source": [
        "import numpy as np\n"
      ]
    },
    {
      "cell_type": "code",
      "source": [
        "# thsi is a comment!\n",
        "#Lets create a vector\n",
        "\n",
        "v = np.array([1, 2, 3, 4])\n",
        "v2 = np.array([0, 0, 1, 0])\n",
        "\n",
        "#This is the dot product\n",
        "v.dot(v)\n",
        "\n",
        "\n",
        "#Find the size or magnitude of the vector:\n",
        "np.sqrt(v.dot(v))\n",
        "\n",
        "#Linear combinations\n",
        "2*v + 3*v2\n",
        "\n",
        "np.linalg.norm(v)"
      ],
      "metadata": {
        "colab": {
          "base_uri": "https://localhost:8080/"
        },
        "id": "Sb0GKZI803tq",
        "outputId": "7d22035c-1369-4a04-e75b-b5dc5e2315e6"
      },
      "execution_count": 17,
      "outputs": [
        {
          "output_type": "execute_result",
          "data": {
            "text/plain": [
              "5.477225575051661"
            ]
          },
          "metadata": {},
          "execution_count": 17
        }
      ]
    },
    {
      "cell_type": "code",
      "source": [
        "# Create our 4 vectors\n",
        "\n",
        "r1 = np.array([3, 0, 3, 0])\n",
        "r2 = np.array([3, 2, 3, 3])\n",
        "r3 = np.array([-7, -4, -5, -6])\n",
        "r4 = np.array([-7, -3, -11, 2])"
      ],
      "metadata": {
        "id": "scjR-6Dh4f4I"
      },
      "execution_count": 18,
      "outputs": []
    },
    {
      "cell_type": "code",
      "source": [
        "#Step 1: process First Vector\n",
        "t1 = r1\n",
        "\n",
        "t1\n",
        "\n",
        "#Step 2: Find magnitude of t1:\n",
        "n1 = np.sqrt(t1.dot(t1))\n",
        "\n",
        "print(\"The magnitude of t1 = \", t1, \"is\", n1)\n",
        "\n",
        "#Step 3: Create the first \"nice\" vector:\n",
        "u1 = (1/n1)*t1\n",
        "\n",
        "print(\"u1 = \", u1)"
      ],
      "metadata": {
        "colab": {
          "base_uri": "https://localhost:8080/"
        },
        "id": "OWFl9ill4zWu",
        "outputId": "1708202a-69b2-477a-8b38-204b9f2c8fb2"
      },
      "execution_count": 28,
      "outputs": [
        {
          "output_type": "stream",
          "name": "stdout",
          "text": [
            "The magnitude of t1 =  [3 0 3 0] is 4.242640687119285\n",
            "u1 =  [0.70710678 0.         0.70710678 0.        ]\n"
          ]
        }
      ]
    },
    {
      "cell_type": "code",
      "source": [
        "#Lets check the reasonableness of u1:\n",
        "#Does u1 have size of 1?\n",
        "print(\"The size of u1 is \", np.sqrt( u1.dot(u1)))"
      ],
      "metadata": {
        "colab": {
          "base_uri": "https://localhost:8080/"
        },
        "id": "o5K7dxgH5gTx",
        "outputId": "e231f950-4f48-419c-9446-db34eb89918f"
      },
      "execution_count": 31,
      "outputs": [
        {
          "output_type": "stream",
          "name": "stdout",
          "text": [
            "The size of u1 is  1.0\n"
          ]
        }
      ]
    },
    {
      "cell_type": "code",
      "source": [
        "#Step 1: process second Vector\n",
        "t2 = r2 - (r2.dot(u1))*u1\n",
        "\n",
        "t2\n",
        "\n",
        "#Step 2: Find magnitude of t2:\n",
        "n2 = np.sqrt(t2.dot(t2))\n",
        "\n",
        "print(\"The magnitude of t2 = \", t2, \"is\", n2)\n",
        "\n",
        "#Step 3: Create the first \"nice\" vector:\n",
        "u2 = (1/n2)*t2\n",
        "\n",
        "print(\"u2 = \", u2)"
      ],
      "metadata": {
        "colab": {
          "base_uri": "https://localhost:8080/"
        },
        "id": "fs8fCn576ZRu",
        "outputId": "438c00b7-b248-4869-83c4-ff718a013f7a"
      },
      "execution_count": 43,
      "outputs": [
        {
          "output_type": "stream",
          "name": "stdout",
          "text": [
            "The magnitude of t2 =  [-4.4408921e-16  2.0000000e+00 -4.4408921e-16  3.0000000e+00] is 3.605551275463989\n",
            "u2 =  [-1.23168186e-16  5.54700196e-01 -1.23168186e-16  8.32050294e-01]\n"
          ]
        }
      ]
    },
    {
      "cell_type": "code",
      "source": [
        "#Lets check the reasonableness of u2:\n",
        "#Does u2 have size of 1?\n",
        "print(\"The size of u2 is \", np.sqrt( u2.dot(u2)))\n",
        "\n",
        "#Is the dot product of u1 and u2 zero?\n",
        "print(\"The dot product of u2 and u1 is \", u1.dot(u2))"
      ],
      "metadata": {
        "colab": {
          "base_uri": "https://localhost:8080/"
        },
        "id": "ERXDFdVn64ZH",
        "outputId": "8f966da4-afe3-44ed-cd80-028c0a0698ed"
      },
      "execution_count": 34,
      "outputs": [
        {
          "output_type": "stream",
          "name": "stdout",
          "text": [
            "The size of u2 is  1.0\n",
            "The dot product of u2 and u1 is  -1.741861189847285e-16\n"
          ]
        }
      ]
    },
    {
      "cell_type": "code",
      "source": [
        "#Step 1: process third Vector\n",
        "t3 = r3 - (r3.dot(u1))*u1 - (r3.dot(u2))*u2\n",
        "\n",
        "t3\n",
        "\n",
        "#Step 2: Find magnitude of t3:\n",
        "n3 = np.sqrt(t3.dot(t3))\n",
        "\n",
        "print(\"The magnitude of t3 = \", t3, \"is\", n3)\n",
        "\n",
        "#Step 3: Create the first \"nice\" vector:\n",
        "u3 = (1/n3)*t3\n",
        "\n",
        "print(\"u3 = \", u3)"
      ],
      "metadata": {
        "colab": {
          "base_uri": "https://localhost:8080/"
        },
        "id": "0MrgB9u362Xj",
        "outputId": "1ad8a702-e4f8-49f0-d2b4-e80b911ac6d6"
      },
      "execution_count": 46,
      "outputs": [
        {
          "output_type": "stream",
          "name": "stdout",
          "text": [
            "The magnitude of t3 =  [-1.0000000e+00 -4.4408921e-16  1.0000000e+00 -8.8817842e-16] is 1.4142135623730951\n",
            "u3 =  [-7.07106781e-01 -3.14018492e-16  7.07106781e-01 -6.28036983e-16]\n"
          ]
        }
      ]
    },
    {
      "cell_type": "code",
      "source": [
        "#Lets check the reasonableness of u3:\n",
        "#Does u3 have size of 1?\n",
        "print(\"The size of u3 is \", np.sqrt( u3.dot(u3)))\n",
        "\n",
        "#Is the dot product of u1 and u3 zero?\n",
        "print(\"The dot product of u3 and u1 is \", u1.dot(u3))\n",
        "print(\"The dot product of u3 and u2 is \", u2.dot(u3))"
      ],
      "metadata": {
        "colab": {
          "base_uri": "https://localhost:8080/"
        },
        "id": "ya_2bZ0k7gbN",
        "outputId": "630ee97e-cb85-4608-9da3-4ea4dbd2ed9c"
      },
      "execution_count": 41,
      "outputs": [
        {
          "output_type": "stream",
          "name": "stdout",
          "text": [
            "The size of u3 is  1.0\n",
            "The dot product of u3 and u1 is  1.741861189847285e-16\n",
            "The dot product of u3 and u2 is  1.3063958923854626e-16\n"
          ]
        }
      ]
    },
    {
      "cell_type": "code",
      "source": [
        "#Step 1: process fourth Vector\n",
        "t4 = r4 - (r4.dot(u1))*u1 - (r4.dot(u2))*u2 - (r4.dot(u3))*u3\n",
        "\n",
        "t4\n",
        "\n",
        "#Step 2: Find magnitude of t4:\n",
        "n4 = np.sqrt(t4.dot(t4))\n",
        "\n",
        "print(\"The magnitude of t4 = \", t4, \"is\", n4)\n",
        "\n",
        "#Step 3: Create the first \"nice\" vector:\n",
        "u4 = (1/n4)*t4\n",
        "\n",
        "print(\"u4 = \", u4)"
      ],
      "metadata": {
        "colab": {
          "base_uri": "https://localhost:8080/"
        },
        "id": "jjz_oPNl7vh4",
        "outputId": "c2e2716f-ee4d-473f-d57a-ffd3f7d06871"
      },
      "execution_count": 47,
      "outputs": [
        {
          "output_type": "stream",
          "name": "stdout",
          "text": [
            "The magnitude of t4 =  [ 0. -3.  0.  2.] is 3.605551275463989\n",
            "u4 =  [ 0.         -0.83205029  0.          0.5547002 ]\n"
          ]
        }
      ]
    },
    {
      "cell_type": "code",
      "source": [
        "#Lets check the reasonableness of u4:\n",
        "#Does u3 have size of 1?\n",
        "print(\"The size of u4 is \", np.sqrt( u4.dot(u4)))\n",
        "\n",
        "#Is the dot product of u1 and u3 zero?\n",
        "print(\"The dot product of u4 and u1 is \", u1.dot(u4))\n",
        "print(\"The dot product of u4 and u2 is \", u2.dot(u4))\n",
        "print(\"The dot product of u4 and u3 is \", u3.dot(u4))"
      ],
      "metadata": {
        "colab": {
          "base_uri": "https://localhost:8080/"
        },
        "id": "Wz_Vxv7Y8RHw",
        "outputId": "f8213929-4c95-400c-f9f3-41de496c4a24"
      },
      "execution_count": 48,
      "outputs": [
        {
          "output_type": "stream",
          "name": "stdout",
          "text": [
            "The size of u4 is  1.0\n",
            "The dot product of u4 and u1 is  0.0\n",
            "The dot product of u4 and u2 is  -1.2212453270876722e-15\n",
            "The dot product of u4 and u3 is  -8.709305949236341e-17\n"
          ]
        }
      ]
    }
  ]
}